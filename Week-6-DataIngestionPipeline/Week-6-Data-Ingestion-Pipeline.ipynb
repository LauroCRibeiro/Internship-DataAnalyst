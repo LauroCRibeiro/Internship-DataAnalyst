{
 "cells": [
  {
   "cell_type": "markdown",
   "metadata": {
    "id": "Oh_ItDHLttIU"
   },
   "source": [
    "# Summary: \n",
    "\n",
    "- **Total number of Rows:**  42,448,764\n",
    "- **Total number of Columns:** 9\n",
    "- **File Size:** 5GB\n",
    "\n",
    "## Dataset Download Link:\n",
    "\n",
    "https://www.kaggle.com/mkechinov/ecommerce-behavior-data-from-multi-category-store?fbclid=IwAR3Rji50q1WtaHD8By7X-_E6WO52Ksj7SQmulpV7-flbmhQKerdWR1M2cdc&select=2019-Oct.csv\n",
    "\n",
    "\n",
    "## Task:\n",
    "\n",
    "* Take any csv/text file of 2+ GB of your choice. --- (You can do this assignment on Google colab)\n",
    "\n",
    "* Read the file ( Present approach of reading the file )\n",
    "\n",
    "* Try different methods of file reading eg: Dask, Modin, Ray, pandas and present your findings in term of computational     efficiency\n",
    "\n",
    "* Perform basic validation on data columns : eg: remove special character , white spaces from the col name\n",
    "\n",
    "* As you already know the schema hence create a YAML file and write the column name in YAML file. --define separator of   \n",
    "  read and write file, column name in YAML\n",
    "\n",
    "* Validate number of columns and column name of ingested file with YAML.\n",
    "\n",
    "* Write the file in pipe separated text file (|) in gz format.\n",
    "\n",
    "    \n",
    "# Data Ingestion sample code walkthrough\n",
    "\n",
    "## \n",
    "  > Create a utility file\n",
    "  \n",
    "  > Config file creation\n",
    "  \n",
    "  > Data ingestion pipeline\n"
   ]
  },
  {
   "cell_type": "markdown",
   "metadata": {
    "id": "zROGmVIdSO0p"
   },
   "source": [
    "# File Reading"
   ]
  },
  {
   "cell_type": "code",
   "execution_count": 3,
   "metadata": {
    "colab": {
     "base_uri": "https://localhost:8080/"
    },
    "executionInfo": {
     "elapsed": 525,
     "status": "ok",
     "timestamp": 1618341162093,
     "user": {
      "displayName": "LAURO RIBEIRO",
      "photoUrl": "https://lh3.googleusercontent.com/a-/AOh14GgN7kOD8RPkGhy3Cp7MSSik2CNRGnbbuErZlLI93w=s64",
      "userId": "06606142289194892719"
     },
     "user_tz": -60
    },
    "id": "7pPZXnx3SO0p",
    "outputId": "edd9675f-7527-41e9-b2b4-f5dd4d49283e"
   },
   "outputs": [
    {
     "name": "stdout",
     "output_type": "stream",
     "text": [
      "Overwriting testutility.py\n"
     ]
    }
   ],
   "source": [
    "%%writefile testutility.py\n",
    "import logging\n",
    "import os\n",
    "import subprocess\n",
    "import yaml\n",
    "import pandas as pd\n",
    "import datetime \n",
    "import gc\n",
    "import re\n",
    "import yaml\n",
    "\n",
    "\n",
    "def read_config_file(filepath):\n",
    "    with open(filepath, 'r') as stream:\n",
    "        try:\n",
    "            return yaml.safe_load(stream)\n",
    "        except yaml.YAMLError as exc:\n",
    "            logging.error(exc)\n",
    "\n",
    "\n",
    "def replacer(string, char):\n",
    "    pattern = char + '{2,}'\n",
    "    string = re.sub(pattern, char, string) \n",
    "    return string\n",
    "\n",
    "def col_header_val(df,table_config):\n",
    "    '''\n",
    "    replace whitespaces in the column\n",
    "    and standardized column names\n",
    "    '''\n",
    "    df.columns = df.columns.str.lower()\n",
    "    df.columns = df.columns.str.replace('[^\\w]','_',regex=True)\n",
    "    df.columns = list(map(lambda x: x.strip('_'), list(df.columns)))\n",
    "    df.columns = list(map(lambda x: replacer(x,'_'), list(df.columns)))\n",
    "    expected_col = list(map(lambda x: x.lower(),  table_config['columns']))\n",
    "    df.columns =list(map(lambda x: x.lower(), list(df.columns)))\n",
    "    if len(df.columns) == len(expected_col) and list(expected_col)  == list(df.columns):\n",
    "        print(\"column name and column length validation passed\")\n",
    "        return 1\n",
    "    else:\n",
    "        print(\"column name and column length validation failed\")\n",
    "        mismatched_columns_file = list(set(df.columns).difference(expected_col))\n",
    "        print(\"Following File columns are not in the YAML file\",mismatched_columns_file)\n",
    "        missing_YAML_file = list(set(expected_col).difference(df.columns))\n",
    "        print(\"Following YAML columns are not in the file uploaded\",missing_YAML_file)\n",
    "        logging.info(f'df columns: {df.columns}')\n",
    "        logging.info(f'expected columns: {expected_col}')\n",
    "        return 0"
   ]
  },
  {
   "cell_type": "code",
   "execution_count": 1,
   "metadata": {
    "colab": {
     "base_uri": "https://localhost:8080/"
    },
    "executionInfo": {
     "elapsed": 31602,
     "status": "ok",
     "timestamp": 1618341126053,
     "user": {
      "displayName": "LAURO RIBEIRO",
      "photoUrl": "https://lh3.googleusercontent.com/a-/AOh14GgN7kOD8RPkGhy3Cp7MSSik2CNRGnbbuErZlLI93w=s64",
      "userId": "06606142289194892719"
     },
     "user_tz": -60
    },
    "id": "jASjM8GmpS7I",
    "outputId": "93ead96d-7113-4407-8eb1-e4590e0b5d59"
   },
   "outputs": [
    {
     "name": "stdout",
     "output_type": "stream",
     "text": [
      "Mounted at /content/drive\n"
     ]
    }
   ],
   "source": [
    "from google.colab import drive\n",
    "drive.mount('/content/drive')"
   ]
  },
  {
   "cell_type": "markdown",
   "metadata": {
    "id": "5QXTKE5SSO0x"
   },
   "source": [
    "# Write YAML File"
   ]
  },
  {
   "cell_type": "code",
   "execution_count": 4,
   "metadata": {
    "colab": {
     "base_uri": "https://localhost:8080/"
    },
    "executionInfo": {
     "elapsed": 513,
     "status": "ok",
     "timestamp": 1618341167563,
     "user": {
      "displayName": "LAURO RIBEIRO",
      "photoUrl": "https://lh3.googleusercontent.com/a-/AOh14GgN7kOD8RPkGhy3Cp7MSSik2CNRGnbbuErZlLI93w=s64",
      "userId": "06606142289194892719"
     },
     "user_tz": -60
    },
    "id": "KHAjn9bqSO0x",
    "outputId": "4423a56a-d18b-496a-8a5c-129b36aa473c"
   },
   "outputs": [
    {
     "name": "stdout",
     "output_type": "stream",
     "text": [
      "Writing ecommerce.yaml\n"
     ]
    }
   ],
   "source": [
    "%%writefile ecommerce.yaml\n",
    "file_type: csv\n",
    "dataset_name: testfile\n",
    "file_name: 2019-Nov\n",
    "table_name: edsurv\n",
    "inbound_delimiter: \",\"\n",
    "outbound_delimiter: \"|\"\n",
    "skip_leading_rows: 1\n",
    "columns: \n",
    "    - event_time\n",
    "    - event_type\n",
    "    - product_id\n",
    "    - category_id\n",
    "    - category_code\n",
    "    - brand\n",
    "    - price\n",
    "    - user_id\n",
    "    - user_session"
   ]
  },
  {
   "cell_type": "markdown",
   "metadata": {
    "id": "EPwHAZmFSO0y"
   },
   "source": [
    "# Read Config File"
   ]
  },
  {
   "cell_type": "code",
   "execution_count": 5,
   "metadata": {
    "executionInfo": {
     "elapsed": 904,
     "status": "ok",
     "timestamp": 1618341174994,
     "user": {
      "displayName": "LAURO RIBEIRO",
      "photoUrl": "https://lh3.googleusercontent.com/a-/AOh14GgN7kOD8RPkGhy3Cp7MSSik2CNRGnbbuErZlLI93w=s64",
      "userId": "06606142289194892719"
     },
     "user_tz": -60
    },
    "id": "Mu2cPrd_SO0y"
   },
   "outputs": [],
   "source": [
    "\n",
    "import testutility as util\n",
    "config_data = util.read_config_file(\"ecommerce.yaml\")"
   ]
  },
  {
   "cell_type": "code",
   "execution_count": 6,
   "metadata": {
    "colab": {
     "base_uri": "https://localhost:8080/"
    },
    "executionInfo": {
     "elapsed": 1120,
     "status": "ok",
     "timestamp": 1618341178914,
     "user": {
      "displayName": "LAURO RIBEIRO",
      "photoUrl": "https://lh3.googleusercontent.com/a-/AOh14GgN7kOD8RPkGhy3Cp7MSSik2CNRGnbbuErZlLI93w=s64",
      "userId": "06606142289194892719"
     },
     "user_tz": -60
    },
    "id": "-cZBXAlISO0z",
    "outputId": "92dea961-668d-4da0-bf83-5b84dd09dee0"
   },
   "outputs": [
    {
     "data": {
      "text/plain": [
       "['event_time',\n",
       " 'event_type',\n",
       " 'product_id',\n",
       " 'category_id',\n",
       " 'category_code',\n",
       " 'brand',\n",
       " 'price',\n",
       " 'user_id',\n",
       " 'user_session']"
      ]
     },
     "execution_count": 6,
     "metadata": {
      "tags": []
     },
     "output_type": "execute_result"
    }
   ],
   "source": [
    "config_data['columns']"
   ]
  },
  {
   "cell_type": "code",
   "execution_count": 7,
   "metadata": {
    "colab": {
     "base_uri": "https://localhost:8080/"
    },
    "executionInfo": {
     "elapsed": 652,
     "status": "ok",
     "timestamp": 1618341183264,
     "user": {
      "displayName": "LAURO RIBEIRO",
      "photoUrl": "https://lh3.googleusercontent.com/a-/AOh14GgN7kOD8RPkGhy3Cp7MSSik2CNRGnbbuErZlLI93w=s64",
      "userId": "06606142289194892719"
     },
     "user_tz": -60
    },
    "id": "AOmF22-BSO00",
    "outputId": "f7be35c9-6ca6-4f02-cd00-fd546859fe36"
   },
   "outputs": [
    {
     "data": {
      "text/plain": [
       "{'columns': ['event_time',\n",
       "  'event_type',\n",
       "  'product_id',\n",
       "  'category_id',\n",
       "  'category_code',\n",
       "  'brand',\n",
       "  'price',\n",
       "  'user_id',\n",
       "  'user_session'],\n",
       " 'dataset_name': 'testfile',\n",
       " 'file_name': '2019-Nov',\n",
       " 'file_type': 'csv',\n",
       " 'inbound_delimiter': ',',\n",
       " 'outbound_delimiter': '|',\n",
       " 'skip_leading_rows': 1,\n",
       " 'table_name': 'edsurv'}"
      ]
     },
     "execution_count": 7,
     "metadata": {
      "tags": []
     },
     "output_type": "execute_result"
    }
   ],
   "source": [
    "#inspecting data of config file\n",
    "config_data"
   ]
  },
  {
   "cell_type": "markdown",
   "metadata": {
    "executionInfo": {
     "elapsed": 520,
     "status": "ok",
     "timestamp": 1618341492703,
     "user": {
      "displayName": "LAURO RIBEIRO",
      "photoUrl": "https://lh3.googleusercontent.com/a-/AOh14GgN7kOD8RPkGhy3Cp7MSSik2CNRGnbbuErZlLI93w=s64",
      "userId": "06606142289194892719"
     },
     "user_tz": -60
    },
    "id": "mX_Vm3d9SO00"
   },
   "source": [
    "# Import Dataset"
   ]
  },
  {
   "cell_type": "code",
   "execution_count": 17,
   "metadata": {
    "colab": {
     "base_uri": "https://localhost:8080/",
     "height": 479
    },
    "executionInfo": {
     "elapsed": 4612,
     "status": "ok",
     "timestamp": 1618341488504,
     "user": {
      "displayName": "LAURO RIBEIRO",
      "photoUrl": "https://lh3.googleusercontent.com/a-/AOh14GgN7kOD8RPkGhy3Cp7MSSik2CNRGnbbuErZlLI93w=s64",
      "userId": "06606142289194892719"
     },
     "user_tz": -60
    },
    "id": "pqsoLg56SO00",
    "outputId": "16153f47-d433-4bdb-ee36-b14edeb68ab8"
   },
   "outputs": [
    {
     "data": {
      "text/html": [
       "<div>\n",
       "<style scoped>\n",
       "    .dataframe tbody tr th:only-of-type {\n",
       "        vertical-align: middle;\n",
       "    }\n",
       "\n",
       "    .dataframe tbody tr th {\n",
       "        vertical-align: top;\n",
       "    }\n",
       "\n",
       "    .dataframe thead th {\n",
       "        text-align: right;\n",
       "    }\n",
       "</style>\n",
       "<table border=\"1\" class=\"dataframe\">\n",
       "  <thead>\n",
       "    <tr style=\"text-align: right;\">\n",
       "      <th></th>\n",
       "      <th>event_time</th>\n",
       "      <th>event_type</th>\n",
       "      <th>product_id</th>\n",
       "      <th>category_id</th>\n",
       "      <th>category_code</th>\n",
       "      <th>brand</th>\n",
       "      <th>price</th>\n",
       "      <th>user_id</th>\n",
       "      <th>user_session</th>\n",
       "    </tr>\n",
       "  </thead>\n",
       "  <tbody>\n",
       "    <tr>\n",
       "      <th>0</th>\n",
       "      <td>2019-10-01 00:00:00 UTC</td>\n",
       "      <td>view</td>\n",
       "      <td>44600062</td>\n",
       "      <td>2103807459595387724</td>\n",
       "      <td>NaN</td>\n",
       "      <td>shiseido</td>\n",
       "      <td>35.79</td>\n",
       "      <td>541312140</td>\n",
       "      <td>72d76fde-8bb3-4e00-8c23-a032dfed738c</td>\n",
       "    </tr>\n",
       "    <tr>\n",
       "      <th>1</th>\n",
       "      <td>2019-10-01 00:00:00 UTC</td>\n",
       "      <td>view</td>\n",
       "      <td>3900821</td>\n",
       "      <td>2053013552326770905</td>\n",
       "      <td>appliances.environment.water_heater</td>\n",
       "      <td>aqua</td>\n",
       "      <td>33.20</td>\n",
       "      <td>554748717</td>\n",
       "      <td>9333dfbd-b87a-4708-9857-6336556b0fcc</td>\n",
       "    </tr>\n",
       "    <tr>\n",
       "      <th>2</th>\n",
       "      <td>2019-10-01 00:00:01 UTC</td>\n",
       "      <td>view</td>\n",
       "      <td>17200506</td>\n",
       "      <td>2053013559792632471</td>\n",
       "      <td>furniture.living_room.sofa</td>\n",
       "      <td>NaN</td>\n",
       "      <td>543.10</td>\n",
       "      <td>519107250</td>\n",
       "      <td>566511c2-e2e3-422b-b695-cf8e6e792ca8</td>\n",
       "    </tr>\n",
       "    <tr>\n",
       "      <th>3</th>\n",
       "      <td>2019-10-01 00:00:01 UTC</td>\n",
       "      <td>view</td>\n",
       "      <td>1307067</td>\n",
       "      <td>2053013558920217191</td>\n",
       "      <td>computers.notebook</td>\n",
       "      <td>lenovo</td>\n",
       "      <td>251.74</td>\n",
       "      <td>550050854</td>\n",
       "      <td>7c90fc70-0e80-4590-96f3-13c02c18c713</td>\n",
       "    </tr>\n",
       "    <tr>\n",
       "      <th>4</th>\n",
       "      <td>2019-10-01 00:00:04 UTC</td>\n",
       "      <td>view</td>\n",
       "      <td>1004237</td>\n",
       "      <td>2053013555631882655</td>\n",
       "      <td>electronics.smartphone</td>\n",
       "      <td>apple</td>\n",
       "      <td>1081.98</td>\n",
       "      <td>535871217</td>\n",
       "      <td>c6bd7419-2748-4c56-95b4-8cec9ff8b80d</td>\n",
       "    </tr>\n",
       "  </tbody>\n",
       "</table>\n",
       "</div>"
      ],
      "text/plain": [
       "                event_time  ...                          user_session\n",
       "0  2019-10-01 00:00:00 UTC  ...  72d76fde-8bb3-4e00-8c23-a032dfed738c\n",
       "1  2019-10-01 00:00:00 UTC  ...  9333dfbd-b87a-4708-9857-6336556b0fcc\n",
       "2  2019-10-01 00:00:01 UTC  ...  566511c2-e2e3-422b-b695-cf8e6e792ca8\n",
       "3  2019-10-01 00:00:01 UTC  ...  7c90fc70-0e80-4590-96f3-13c02c18c713\n",
       "4  2019-10-01 00:00:04 UTC  ...  c6bd7419-2748-4c56-95b4-8cec9ff8b80d\n",
       "\n",
       "[5 rows x 9 columns]"
      ]
     },
     "execution_count": 17,
     "metadata": {
      "tags": []
     },
     "output_type": "execute_result"
    }
   ],
   "source": [
    "import pandas as pd \n",
    "import numpy as np \n",
    "#!pip install \"dask[dataframe]\"\n",
    "import dask.dataframe as dd\n",
    "\n",
    "\n",
    "ecommerce = dd.read_csv(\"/content/drive/MyDrive/Week-6-DataIngestionPipeline/2019-Oct.csv\", delimiter=',')\n",
    "ecommerce.head()"
   ]
  },
  {
   "cell_type": "markdown",
   "metadata": {},
   "source": [
    "# Summary about Data"
   ]
  },
  {
   "cell_type": "code",
   "execution_count": 18,
   "metadata": {
    "colab": {
     "base_uri": "https://localhost:8080/"
    },
    "executionInfo": {
     "elapsed": 125649,
     "status": "ok",
     "timestamp": 1618341627760,
     "user": {
      "displayName": "LAURO RIBEIRO",
      "photoUrl": "https://lh3.googleusercontent.com/a-/AOh14GgN7kOD8RPkGhy3Cp7MSSik2CNRGnbbuErZlLI93w=s64",
      "userId": "06606142289194892719"
     },
     "user_tz": -60
    },
    "id": "7hzjtj2xSO01",
    "outputId": "73851204-fade-421a-eebc-74d2122a7fa7"
   },
   "outputs": [
    {
     "name": "stdout",
     "output_type": "stream",
     "text": [
      "The number of rows:  42448764\n"
     ]
    }
   ],
   "source": [
    "print(\"The number of rows: \", len(ecommerce))"
   ]
  },
  {
   "cell_type": "code",
   "execution_count": 19,
   "metadata": {
    "colab": {
     "base_uri": "https://localhost:8080/"
    },
    "executionInfo": {
     "elapsed": 125131,
     "status": "ok",
     "timestamp": 1618341627763,
     "user": {
      "displayName": "LAURO RIBEIRO",
      "photoUrl": "https://lh3.googleusercontent.com/a-/AOh14GgN7kOD8RPkGhy3Cp7MSSik2CNRGnbbuErZlLI93w=s64",
      "userId": "06606142289194892719"
     },
     "user_tz": -60
    },
    "id": "aUTi3AWrSO01",
    "outputId": "be59fc0b-b197-42f4-fcae-02850c351ca0"
   },
   "outputs": [
    {
     "name": "stdout",
     "output_type": "stream",
     "text": [
      "The number of columns:  9\n"
     ]
    }
   ],
   "source": [
    "print(\"The number of columns: \", len(ecommerce.columns))"
   ]
  },
  {
   "cell_type": "code",
   "execution_count": 22,
   "metadata": {
    "colab": {
     "base_uri": "https://localhost:8080/"
    },
    "executionInfo": {
     "elapsed": 506,
     "status": "ok",
     "timestamp": 1618341673115,
     "user": {
      "displayName": "LAURO RIBEIRO",
      "photoUrl": "https://lh3.googleusercontent.com/a-/AOh14GgN7kOD8RPkGhy3Cp7MSSik2CNRGnbbuErZlLI93w=s64",
      "userId": "06606142289194892719"
     },
     "user_tz": -60
    },
    "id": "AWjur0vWSO02",
    "outputId": "ca6a2224-9193-42fa-8fb6-4e5f08466df4"
   },
   "outputs": [
    {
     "name": "stdout",
     "output_type": "stream",
     "text": [
      "File Size is : 5668612855 bytes\n"
     ]
    }
   ],
   "source": [
    "import os\n",
    "\n",
    "file_size = os.path.getsize('/content/drive/MyDrive/Week-6-DataIngestionPipeline/2019-Oct.csv')\n",
    "print(\"File Size is :\", file_size, \"bytes\")"
   ]
  },
  {
   "cell_type": "markdown",
   "metadata": {
    "executionInfo": {
     "elapsed": 123244,
     "status": "aborted",
     "timestamp": 1618341627765,
     "user": {
      "displayName": "LAURO RIBEIRO",
      "photoUrl": "https://lh3.googleusercontent.com/a-/AOh14GgN7kOD8RPkGhy3Cp7MSSik2CNRGnbbuErZlLI93w=s64",
      "userId": "06606142289194892719"
     },
     "user_tz": -60
    },
    "id": "nouHcRRESO03"
   },
   "source": [
    "# Validate the file header"
   ]
  },
  {
   "cell_type": "code",
   "execution_count": 23,
   "metadata": {
    "colab": {
     "base_uri": "https://localhost:8080/"
    },
    "executionInfo": {
     "elapsed": 787,
     "status": "ok",
     "timestamp": 1618341680927,
     "user": {
      "displayName": "LAURO RIBEIRO",
      "photoUrl": "https://lh3.googleusercontent.com/a-/AOh14GgN7kOD8RPkGhy3Cp7MSSik2CNRGnbbuErZlLI93w=s64",
      "userId": "06606142289194892719"
     },
     "user_tz": -60
    },
    "id": "cjg9KnlqSO03",
    "outputId": "673b07f2-ad5a-4ef0-c9e6-8cdd7186e1c2"
   },
   "outputs": [
    {
     "name": "stdout",
     "output_type": "stream",
     "text": [
      "column name and column length validation passed\n"
     ]
    },
    {
     "data": {
      "text/plain": [
       "1"
      ]
     },
     "execution_count": 23,
     "metadata": {
      "tags": []
     },
     "output_type": "execute_result"
    }
   ],
   "source": [
    "util.col_header_val(ecommerce ,config_data)"
   ]
  },
  {
   "cell_type": "code",
   "execution_count": 24,
   "metadata": {
    "colab": {
     "base_uri": "https://localhost:8080/"
    },
    "executionInfo": {
     "elapsed": 577,
     "status": "ok",
     "timestamp": 1618341681667,
     "user": {
      "displayName": "LAURO RIBEIRO",
      "photoUrl": "https://lh3.googleusercontent.com/a-/AOh14GgN7kOD8RPkGhy3Cp7MSSik2CNRGnbbuErZlLI93w=s64",
      "userId": "06606142289194892719"
     },
     "user_tz": -60
    },
    "id": "Q6JxddepSO04",
    "outputId": "b7d749ee-1ef4-44e9-ce17-c7c8831cf34e"
   },
   "outputs": [
    {
     "name": "stdout",
     "output_type": "stream",
     "text": [
      "columns of files are: Index(['event_time', 'event_type', 'product_id', 'category_id',\n",
      "       'category_code', 'brand', 'price', 'user_id', 'user_session'],\n",
      "      dtype='object')\n",
      "------------------------------------------------------------------------\n",
      "columns of YAML are: ['event_time', 'event_type', 'product_id', 'category_id', 'category_code', 'brand', 'price', 'user_id', 'user_session']\n"
     ]
    }
   ],
   "source": [
    "print(\"columns of files are:\" ,ecommerce.columns)\n",
    "print(\"------------------------------------------------------------------------\")\n",
    "print(\"columns of YAML are:\" ,config_data['columns'])"
   ]
  },
  {
   "cell_type": "markdown",
   "metadata": {},
   "source": [
    "# Create a Pipeline"
   ]
  },
  {
   "cell_type": "code",
   "execution_count": 27,
   "metadata": {
    "colab": {
     "base_uri": "https://localhost:8080/"
    },
    "executionInfo": {
     "elapsed": 452686,
     "status": "ok",
     "timestamp": 1618342171970,
     "user": {
      "displayName": "LAURO RIBEIRO",
      "photoUrl": "https://lh3.googleusercontent.com/a-/AOh14GgN7kOD8RPkGhy3Cp7MSSik2CNRGnbbuErZlLI93w=s64",
      "userId": "06606142289194892719"
     },
     "user_tz": -60
    },
    "id": "s8jokrs7SO05",
    "outputId": "b707e4cc-b9c2-42e5-a4f4-013f53b8bf27"
   },
   "outputs": [
    {
     "name": "stdout",
     "output_type": "stream",
     "text": [
      "column name and column length validation passed\n",
      "Column Validation Passed\n",
      "Your Dataframe has been compressed to a .gzip file in the same folder.\n"
     ]
    }
   ],
   "source": [
    "import gzip \n",
    "\n",
    "while True:\n",
    "    if util.col_header_val(ecommerce,config_data)==0:\n",
    "        print(\"---------------------------------------------\")\n",
    "        print(\"Validation Failed! Please, check file columns!\")\n",
    "    else:\n",
    "        print(\"Column Validation Passed\")\n",
    "        input = open('/content/drive/MyDrive/Week-6-DataIngestionPipeline/2019-Oct.csv', 'rb')\n",
    "        s = input.read()\n",
    "        input.close()\n",
    "        \n",
    "        output = gzip.GzipFile('/content/drive/MyDrive/Week-6-DataIngestionPipeline/2019-Oct.csv.gz','wb')\n",
    "        output.write(s)\n",
    "        output.close()\n",
    "        \n",
    "        #ecommerce.to_csv('ecommerce.gz',compression='gzip')\n",
    "        print(\"Your Dataframe has been compressed to a .gzip file in the same folder.\")\n",
    "    break"
   ]
  },
  {
   "cell_type": "code",
   "execution_count": null,
   "metadata": {
    "id": "XeZOe89bSO06"
   },
   "outputs": [],
   "source": []
  },
  {
   "cell_type": "code",
   "execution_count": null,
   "metadata": {
    "id": "dMnhosNdSO06"
   },
   "outputs": [],
   "source": []
  }
 ],
 "metadata": {
  "colab": {
   "collapsed_sections": [],
   "name": "Week-6-Data-Ingestion-Pipeline.ipynb",
   "provenance": []
  },
  "kernelspec": {
   "display_name": "Python 3",
   "language": "python",
   "name": "python3"
  },
  "language_info": {
   "codemirror_mode": {
    "name": "ipython",
    "version": 3
   },
   "file_extension": ".py",
   "mimetype": "text/x-python",
   "name": "python",
   "nbconvert_exporter": "python",
   "pygments_lexer": "ipython3",
   "version": "3.8.5"
  }
 },
 "nbformat": 4,
 "nbformat_minor": 1
}
