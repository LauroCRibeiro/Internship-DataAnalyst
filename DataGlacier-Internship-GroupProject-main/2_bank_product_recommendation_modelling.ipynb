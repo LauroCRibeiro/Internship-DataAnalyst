{
  "nbformat": 4,
  "nbformat_minor": 0,
  "metadata": {
    "colab": {
      "name": "2-santander-product-recommendation-modelling.ipynb",
      "provenance": []
    },
    "kernelspec": {
      "name": "python3",
      "display_name": "Python 3"
    },
    "language_info": {
      "name": "python"
    }
  },
  "cells": [
    {
      "cell_type": "markdown",
      "metadata": {
        "id": "ltS81blePeXX"
      },
      "source": [
        "# Data Glacier  Internship\n",
        "\n",
        "## Author: Lauro Ribeiro, Buse Güngör, Salmah \n",
        "We create a model to predict according to a customer's behavior whether or not this customer will buy a Bank`s product based on their last month behaviour."
      ]
    },
    {
      "cell_type": "code",
      "metadata": {
        "colab": {
          "base_uri": "https://localhost:8080/"
        },
        "id": "wbLjvIJWPYxd",
        "outputId": "27ce02ad-d3c3-4fba-d8b7-5ed6c5c909de"
      },
      "source": [
        "##### Import packages\n",
        "# Basic packages\n",
        "import pandas as pd\n",
        "import numpy as np\n",
        "import matplotlib.pyplot as plt\n",
        "import seaborn as sns\n",
        "\n",
        "# Modelling packages\n",
        "from sklearn.preprocessing import LabelEncoder\n",
        "from sklearn.model_selection import train_test_split\n",
        "from imblearn.under_sampling import RandomUnderSampler\n",
        "from collections import Counter\n",
        "\n",
        "from sklearn.linear_model import LogisticRegression\n",
        "from sklearn.ensemble import RandomForestClassifier\n",
        "from xgboost import XGBClassifier\n",
        "\n",
        "from sklearn.metrics import accuracy_score\n",
        "from sklearn.metrics import plot_confusion_matrix\n",
        "from sklearn.metrics import classification_report\n",
        "\n",
        "# To avoid warnings´\n",
        "import warnings\n",
        "warnings.filterwarnings(\"ignore\")"
      ],
      "execution_count": 1,
      "outputs": [
        {
          "output_type": "stream",
          "text": [
            "/usr/local/lib/python3.7/dist-packages/sklearn/externals/six.py:31: FutureWarning: The module is deprecated in version 0.21 and will be removed in version 0.23 since we've dropped support for Python 2.7. Please rely on the official version of six (https://pypi.org/project/six/).\n",
            "  \"(https://pypi.org/project/six/).\", FutureWarning)\n",
            "/usr/local/lib/python3.7/dist-packages/sklearn/utils/deprecation.py:144: FutureWarning: The sklearn.neighbors.base module is  deprecated in version 0.22 and will be removed in version 0.24. The corresponding classes / functions should instead be imported from sklearn.neighbors. Anything that cannot be imported from sklearn.neighbors is now part of the private API.\n",
            "  warnings.warn(message, FutureWarning)\n"
          ],
          "name": "stderr"
        }
      ]
    },
    {
      "cell_type": "code",
      "metadata": {
        "id": "G9X-0rUIPhAR"
      },
      "source": [
        "##### Import data\n",
        "# Check the path before running it\n",
        "\n",
        "df = pd.read_pickle('/content/drive/MyDrive/DataGlacier-GroupProject/data_modelling_memred.pkl')"
      ],
      "execution_count": 2,
      "outputs": []
    },
    {
      "cell_type": "code",
      "metadata": {
        "id": "9pVVvKp-PxMj"
      },
      "source": [
        "##### I create a numerical series -- I need to predict 17th month\n",
        "\n",
        "dict_meses = dict()\n",
        "for num,value in enumerate(df.fecha_dato.unique(),1):\n",
        "    dict_meses[value] = num\n",
        "    \n",
        "df[\"month_counter\"] = df['fecha_dato'].map(dict_meses)"
      ],
      "execution_count": 3,
      "outputs": []
    },
    {
      "cell_type": "code",
      "metadata": {
        "id": "aj-n_ln_Pzrm"
      },
      "source": [
        "##### Due to imputation strategy, I reapply previous filter to prevent unexpected values \n",
        "\n",
        "info_17 = df.ncodpers.value_counts()[df.ncodpers.value_counts() == 17].index\n",
        "df = df[df['ncodpers'].isin(info_17)].reset_index(drop = True)"
      ],
      "execution_count": 4,
      "outputs": []
    },
    {
      "cell_type": "markdown",
      "metadata": {
        "id": "QYPOkHwXP3aN"
      },
      "source": [
        "# Prediction Model for `ind_cco_fin_ult1`"
      ]
    },
    {
      "cell_type": "code",
      "metadata": {
        "colab": {
          "base_uri": "https://localhost:8080/",
          "height": 419
        },
        "id": "wf-1vKY5P1v5",
        "outputId": "9d481b42-fdd7-4b79-8ddb-529bf99dc881"
      },
      "source": [
        "##### I extract the other 15 rows from the first product purchase column and transpose it\n",
        "\n",
        "df_product = pd.DataFrame()\n",
        "for i in range(0,17):\n",
        "    x = df.query(f'month_counter == {i}')[\"ind_cco_fin_ult1\"].tolist()\n",
        "    df1 = pd.DataFrame(x).T\n",
        "    df_product = pd.concat([df1,df_product], axis=0)\n",
        "    \n",
        "df_product = df_product.T\n",
        "df_product.columns = range(1,17)\n",
        "df_product"
      ],
      "execution_count": 5,
      "outputs": [
        {
          "output_type": "execute_result",
          "data": {
            "text/html": [
              "<div>\n",
              "<style scoped>\n",
              "    .dataframe tbody tr th:only-of-type {\n",
              "        vertical-align: middle;\n",
              "    }\n",
              "\n",
              "    .dataframe tbody tr th {\n",
              "        vertical-align: top;\n",
              "    }\n",
              "\n",
              "    .dataframe thead th {\n",
              "        text-align: right;\n",
              "    }\n",
              "</style>\n",
              "<table border=\"1\" class=\"dataframe\">\n",
              "  <thead>\n",
              "    <tr style=\"text-align: right;\">\n",
              "      <th></th>\n",
              "      <th>1</th>\n",
              "      <th>2</th>\n",
              "      <th>3</th>\n",
              "      <th>4</th>\n",
              "      <th>5</th>\n",
              "      <th>6</th>\n",
              "      <th>7</th>\n",
              "      <th>8</th>\n",
              "      <th>9</th>\n",
              "      <th>10</th>\n",
              "      <th>11</th>\n",
              "      <th>12</th>\n",
              "      <th>13</th>\n",
              "      <th>14</th>\n",
              "      <th>15</th>\n",
              "      <th>16</th>\n",
              "    </tr>\n",
              "  </thead>\n",
              "  <tbody>\n",
              "    <tr>\n",
              "      <th>0</th>\n",
              "      <td>1</td>\n",
              "      <td>1</td>\n",
              "      <td>1</td>\n",
              "      <td>1</td>\n",
              "      <td>1</td>\n",
              "      <td>0</td>\n",
              "      <td>1</td>\n",
              "      <td>1</td>\n",
              "      <td>0</td>\n",
              "      <td>0</td>\n",
              "      <td>1</td>\n",
              "      <td>1</td>\n",
              "      <td>1</td>\n",
              "      <td>1</td>\n",
              "      <td>1</td>\n",
              "      <td>1</td>\n",
              "    </tr>\n",
              "    <tr>\n",
              "      <th>1</th>\n",
              "      <td>0</td>\n",
              "      <td>1</td>\n",
              "      <td>1</td>\n",
              "      <td>1</td>\n",
              "      <td>1</td>\n",
              "      <td>1</td>\n",
              "      <td>0</td>\n",
              "      <td>1</td>\n",
              "      <td>1</td>\n",
              "      <td>1</td>\n",
              "      <td>1</td>\n",
              "      <td>1</td>\n",
              "      <td>1</td>\n",
              "      <td>1</td>\n",
              "      <td>1</td>\n",
              "      <td>1</td>\n",
              "    </tr>\n",
              "    <tr>\n",
              "      <th>2</th>\n",
              "      <td>1</td>\n",
              "      <td>1</td>\n",
              "      <td>1</td>\n",
              "      <td>1</td>\n",
              "      <td>0</td>\n",
              "      <td>1</td>\n",
              "      <td>1</td>\n",
              "      <td>0</td>\n",
              "      <td>0</td>\n",
              "      <td>1</td>\n",
              "      <td>1</td>\n",
              "      <td>1</td>\n",
              "      <td>1</td>\n",
              "      <td>1</td>\n",
              "      <td>0</td>\n",
              "      <td>1</td>\n",
              "    </tr>\n",
              "    <tr>\n",
              "      <th>3</th>\n",
              "      <td>0</td>\n",
              "      <td>1</td>\n",
              "      <td>1</td>\n",
              "      <td>1</td>\n",
              "      <td>1</td>\n",
              "      <td>1</td>\n",
              "      <td>1</td>\n",
              "      <td>1</td>\n",
              "      <td>0</td>\n",
              "      <td>1</td>\n",
              "      <td>1</td>\n",
              "      <td>1</td>\n",
              "      <td>1</td>\n",
              "      <td>1</td>\n",
              "      <td>1</td>\n",
              "      <td>1</td>\n",
              "    </tr>\n",
              "    <tr>\n",
              "      <th>4</th>\n",
              "      <td>1</td>\n",
              "      <td>1</td>\n",
              "      <td>1</td>\n",
              "      <td>1</td>\n",
              "      <td>0</td>\n",
              "      <td>1</td>\n",
              "      <td>1</td>\n",
              "      <td>1</td>\n",
              "      <td>1</td>\n",
              "      <td>1</td>\n",
              "      <td>1</td>\n",
              "      <td>1</td>\n",
              "      <td>1</td>\n",
              "      <td>0</td>\n",
              "      <td>1</td>\n",
              "      <td>1</td>\n",
              "    </tr>\n",
              "    <tr>\n",
              "      <th>...</th>\n",
              "      <td>...</td>\n",
              "      <td>...</td>\n",
              "      <td>...</td>\n",
              "      <td>...</td>\n",
              "      <td>...</td>\n",
              "      <td>...</td>\n",
              "      <td>...</td>\n",
              "      <td>...</td>\n",
              "      <td>...</td>\n",
              "      <td>...</td>\n",
              "      <td>...</td>\n",
              "      <td>...</td>\n",
              "      <td>...</td>\n",
              "      <td>...</td>\n",
              "      <td>...</td>\n",
              "      <td>...</td>\n",
              "    </tr>\n",
              "    <tr>\n",
              "      <th>296817</th>\n",
              "      <td>0</td>\n",
              "      <td>1</td>\n",
              "      <td>1</td>\n",
              "      <td>1</td>\n",
              "      <td>1</td>\n",
              "      <td>0</td>\n",
              "      <td>0</td>\n",
              "      <td>1</td>\n",
              "      <td>1</td>\n",
              "      <td>1</td>\n",
              "      <td>1</td>\n",
              "      <td>1</td>\n",
              "      <td>1</td>\n",
              "      <td>1</td>\n",
              "      <td>1</td>\n",
              "      <td>1</td>\n",
              "    </tr>\n",
              "    <tr>\n",
              "      <th>296818</th>\n",
              "      <td>1</td>\n",
              "      <td>1</td>\n",
              "      <td>1</td>\n",
              "      <td>1</td>\n",
              "      <td>0</td>\n",
              "      <td>1</td>\n",
              "      <td>1</td>\n",
              "      <td>1</td>\n",
              "      <td>1</td>\n",
              "      <td>1</td>\n",
              "      <td>1</td>\n",
              "      <td>0</td>\n",
              "      <td>0</td>\n",
              "      <td>1</td>\n",
              "      <td>1</td>\n",
              "      <td>1</td>\n",
              "    </tr>\n",
              "    <tr>\n",
              "      <th>296819</th>\n",
              "      <td>1</td>\n",
              "      <td>1</td>\n",
              "      <td>1</td>\n",
              "      <td>1</td>\n",
              "      <td>1</td>\n",
              "      <td>1</td>\n",
              "      <td>1</td>\n",
              "      <td>1</td>\n",
              "      <td>1</td>\n",
              "      <td>1</td>\n",
              "      <td>1</td>\n",
              "      <td>1</td>\n",
              "      <td>1</td>\n",
              "      <td>1</td>\n",
              "      <td>1</td>\n",
              "      <td>0</td>\n",
              "    </tr>\n",
              "    <tr>\n",
              "      <th>296820</th>\n",
              "      <td>1</td>\n",
              "      <td>1</td>\n",
              "      <td>1</td>\n",
              "      <td>1</td>\n",
              "      <td>0</td>\n",
              "      <td>1</td>\n",
              "      <td>0</td>\n",
              "      <td>1</td>\n",
              "      <td>1</td>\n",
              "      <td>1</td>\n",
              "      <td>0</td>\n",
              "      <td>1</td>\n",
              "      <td>1</td>\n",
              "      <td>1</td>\n",
              "      <td>1</td>\n",
              "      <td>1</td>\n",
              "    </tr>\n",
              "    <tr>\n",
              "      <th>296821</th>\n",
              "      <td>1</td>\n",
              "      <td>1</td>\n",
              "      <td>1</td>\n",
              "      <td>1</td>\n",
              "      <td>1</td>\n",
              "      <td>1</td>\n",
              "      <td>1</td>\n",
              "      <td>0</td>\n",
              "      <td>0</td>\n",
              "      <td>0</td>\n",
              "      <td>0</td>\n",
              "      <td>0</td>\n",
              "      <td>1</td>\n",
              "      <td>1</td>\n",
              "      <td>0</td>\n",
              "      <td>1</td>\n",
              "    </tr>\n",
              "  </tbody>\n",
              "</table>\n",
              "<p>296822 rows × 16 columns</p>\n",
              "</div>"
            ],
            "text/plain": [
              "        1   2   3   4   5   6   7   8   9   10  11  12  13  14  15  16\n",
              "0        1   1   1   1   1   0   1   1   0   0   1   1   1   1   1   1\n",
              "1        0   1   1   1   1   1   0   1   1   1   1   1   1   1   1   1\n",
              "2        1   1   1   1   0   1   1   0   0   1   1   1   1   1   0   1\n",
              "3        0   1   1   1   1   1   1   1   0   1   1   1   1   1   1   1\n",
              "4        1   1   1   1   0   1   1   1   1   1   1   1   1   0   1   1\n",
              "...     ..  ..  ..  ..  ..  ..  ..  ..  ..  ..  ..  ..  ..  ..  ..  ..\n",
              "296817   0   1   1   1   1   0   0   1   1   1   1   1   1   1   1   1\n",
              "296818   1   1   1   1   0   1   1   1   1   1   1   0   0   1   1   1\n",
              "296819   1   1   1   1   1   1   1   1   1   1   1   1   1   1   1   0\n",
              "296820   1   1   1   1   0   1   0   1   1   1   0   1   1   1   1   1\n",
              "296821   1   1   1   1   1   1   1   0   0   0   0   0   1   1   0   1\n",
              "\n",
              "[296822 rows x 16 columns]"
            ]
          },
          "metadata": {
            "tags": []
          },
          "execution_count": 5
        }
      ]
    },
    {
      "cell_type": "code",
      "metadata": {
        "colab": {
          "base_uri": "https://localhost:8080/",
          "height": 204
        },
        "id": "5TzhO5T-P7Dv",
        "outputId": "2c7a854a-647b-4f24-e4df-b0c21beef8fe"
      },
      "source": [
        "##### I keep only relevant columns (product column will have a special processing)\n",
        "\n",
        "df_pred = df[['month', 'sexo', 'age', 'antiguedad','tiprel_1mes', 'canal_entrada', 'nomprov', 'renta', 'segmento']].copy()\n",
        "\n",
        "df_pred.head()"
      ],
      "execution_count": 6,
      "outputs": [
        {
          "output_type": "execute_result",
          "data": {
            "text/html": [
              "<div>\n",
              "<style scoped>\n",
              "    .dataframe tbody tr th:only-of-type {\n",
              "        vertical-align: middle;\n",
              "    }\n",
              "\n",
              "    .dataframe tbody tr th {\n",
              "        vertical-align: top;\n",
              "    }\n",
              "\n",
              "    .dataframe thead th {\n",
              "        text-align: right;\n",
              "    }\n",
              "</style>\n",
              "<table border=\"1\" class=\"dataframe\">\n",
              "  <thead>\n",
              "    <tr style=\"text-align: right;\">\n",
              "      <th></th>\n",
              "      <th>month</th>\n",
              "      <th>sexo</th>\n",
              "      <th>age</th>\n",
              "      <th>antiguedad</th>\n",
              "      <th>tiprel_1mes</th>\n",
              "      <th>canal_entrada</th>\n",
              "      <th>nomprov</th>\n",
              "      <th>renta</th>\n",
              "      <th>segmento</th>\n",
              "    </tr>\n",
              "  </thead>\n",
              "  <tbody>\n",
              "    <tr>\n",
              "      <th>0</th>\n",
              "      <td>1</td>\n",
              "      <td>V</td>\n",
              "      <td>23</td>\n",
              "      <td>35</td>\n",
              "      <td>A</td>\n",
              "      <td>KHE</td>\n",
              "      <td>ZARAGOZA</td>\n",
              "      <td>451931.22</td>\n",
              "      <td>03 - UNIVERSITARIO</td>\n",
              "    </tr>\n",
              "    <tr>\n",
              "      <th>1</th>\n",
              "      <td>1</td>\n",
              "      <td>H</td>\n",
              "      <td>23</td>\n",
              "      <td>35</td>\n",
              "      <td>A</td>\n",
              "      <td>KHE</td>\n",
              "      <td>ZARAGOZA</td>\n",
              "      <td>113316.66</td>\n",
              "      <td>03 - UNIVERSITARIO</td>\n",
              "    </tr>\n",
              "    <tr>\n",
              "      <th>2</th>\n",
              "      <td>1</td>\n",
              "      <td>H</td>\n",
              "      <td>23</td>\n",
              "      <td>35</td>\n",
              "      <td>A</td>\n",
              "      <td>KHE</td>\n",
              "      <td>ZAMORA</td>\n",
              "      <td>113538.81</td>\n",
              "      <td>03 - UNIVERSITARIO</td>\n",
              "    </tr>\n",
              "    <tr>\n",
              "      <th>3</th>\n",
              "      <td>1</td>\n",
              "      <td>V</td>\n",
              "      <td>23</td>\n",
              "      <td>35</td>\n",
              "      <td>A</td>\n",
              "      <td>KHE</td>\n",
              "      <td>BARCELONA</td>\n",
              "      <td>451931.22</td>\n",
              "      <td>03 - UNIVERSITARIO</td>\n",
              "    </tr>\n",
              "    <tr>\n",
              "      <th>4</th>\n",
              "      <td>1</td>\n",
              "      <td>V</td>\n",
              "      <td>24</td>\n",
              "      <td>35</td>\n",
              "      <td>I</td>\n",
              "      <td>KHE</td>\n",
              "      <td>SALAMANCA</td>\n",
              "      <td>68318.46</td>\n",
              "      <td>03 - UNIVERSITARIO</td>\n",
              "    </tr>\n",
              "  </tbody>\n",
              "</table>\n",
              "</div>"
            ],
            "text/plain": [
              "   month sexo  age  ...    nomprov      renta            segmento\n",
              "0      1    V   23  ...   ZARAGOZA  451931.22  03 - UNIVERSITARIO\n",
              "1      1    H   23  ...   ZARAGOZA  113316.66  03 - UNIVERSITARIO\n",
              "2      1    H   23  ...     ZAMORA  113538.81  03 - UNIVERSITARIO\n",
              "3      1    V   23  ...  BARCELONA  451931.22  03 - UNIVERSITARIO\n",
              "4      1    V   24  ...  SALAMANCA   68318.46  03 - UNIVERSITARIO\n",
              "\n",
              "[5 rows x 9 columns]"
            ]
          },
          "metadata": {
            "tags": []
          },
          "execution_count": 6
        }
      ]
    },
    {
      "cell_type": "code",
      "metadata": {
        "colab": {
          "base_uri": "https://localhost:8080/"
        },
        "id": "8s5pOXiUP-TT",
        "outputId": "32e3ca1d-0eee-4725-9e5e-96d2a8928cfa"
      },
      "source": [
        "##### See which ones need data preparation based on unique values\n",
        "\n",
        "for col in df_pred.columns:\n",
        "    print(f'{col}: {df_pred[col].unique()}')"
      ],
      "execution_count": 7,
      "outputs": [
        {
          "output_type": "stream",
          "text": [
            "month: [ 1  2  3  4  5  6  7  8  9 10 11 12]\n",
            "sexo: ['V' 'H']\n",
            "age: [ 23  24  22  28  25  37  39  63  33  32  42  38  50  30  31  45  27  26\n",
            "  60  36  29  34  48  35  54  44  57  84  83  47  40  77  69  52  43  46\n",
            "  49  67  51  78  41  55  59  53  73  62  66  68  65  79  19  58  56  86\n",
            "  64  61  20  72  89  71  21  96  80  95  81  82  70  76  92  93  18  74\n",
            "  75  85  91  87  90  98  88  94  99  97 100]\n",
            "antiguedad: [     35      31      16      34       9      29      10      24      27\n",
            "       7      33      14       6      12      26      23      21      11\n",
            "      28       4      17      22      18       8      13      20      32\n",
            "      15      25      36      40      19      38      37      39      30\n",
            "       3       5      47      46      44      43      45      41      57\n",
            "      56      50      58      52      48      49      54      55      53\n",
            "      51      59      42      62      61      60      63       1       2\n",
            "     139     165     164      94     159     105     162     137     128\n",
            "     156     160      95     118     132     161      98     127      72\n",
            "     157     108     163     148     115     146      81     102     121\n",
            "     198     134     140     110     120     147      77      99     141\n",
            "     117      86     193     154     124     144     155     158      85\n",
            "     116     235      88     103     151     131     100     150     145\n",
            "     133     166      68      84     232     125      78     177      96\n",
            "      79      69     142     167     104     119     122      76      70\n",
            "     113     138     135      65     126     129      66     101     111\n",
            "     176      64     153     112     149     136      80      83     143\n",
            "     187     107     231     189     109     114     217     199     173\n",
            "     174      82     209     172     178     152     216     169     168\n",
            "      89      97     130      67      73     123     183      87     206\n",
            "      93     171      91     190      71     194     184     188      92\n",
            "     106     185      74     195     207     208      75     175     201\n",
            "     203     212     180     215     170     182     214     202     196\n",
            "     186     192     191     200      90     226     179     210     242\n",
            "     225     219     205     223     237     220     218     181     222\n",
            "     241     204     211     197     213     228     221     224     234\n",
            "     240     227     229     243     233     230     238     236     244\n",
            "     239     246     245 -999999     247     248     249     250     251\n",
            "     252     253     254     255     256]\n",
            "tiprel_1mes: ['A' 'I']\n",
            "canal_entrada: ['KHE' 'otros' 'KFC' 'KAT']\n",
            "nomprov: ['ZARAGOZA' 'ZAMORA' 'BARCELONA' 'SALAMANCA' 'CIUDAD REAL' 'BURGOS'\n",
            " 'AVILA' 'TOLEDO' 'LUGO' 'CACERES' 'MADRID' 'SORIA' 'SEVILLA' 'CANTABRIA'\n",
            " 'ALICANTE' 'BALEARS, ILLES' 'VALLADOLID' 'PONTEVEDRA' 'VALENCIA' 'HUESCA'\n",
            " 'CORUÑA, A' 'OURENSE' 'BIZKAIA' 'RIOJA, LA' 'ALBACETE' 'GIPUZKOA'\n",
            " 'BADAJOZ' 'GUADALAJARA' 'CUENCA' 'PALENCIA' 'NAVARRA' 'TERUEL' 'CORDOBA'\n",
            " 'LERIDA' 'CADIZ' 'LEON' 'MALAGA' 'JAEN' 'ASTURIAS' 'GRANADA' 'HUELVA'\n",
            " 'SEGOVIA' 'ALMERIA' 'PALMAS, LAS' 'MELILLA' 'CASTELLON' 'TARRAGONA'\n",
            " 'MURCIA' 'GIRONA' 'SANTA CRUZ DE TENERIFE' 'ALAVA' 'CEUTA']\n",
            "renta: [451931.22 113316.66 113538.81 ... 107943.09 109450.86 125455.68]\n",
            "segmento: ['03 - UNIVERSITARIO' '02 - PARTICULARES' '01 - TOP']\n"
          ],
          "name": "stdout"
        }
      ]
    },
    {
      "cell_type": "code",
      "metadata": {
        "colab": {
          "base_uri": "https://localhost:8080/",
          "height": 323
        },
        "id": "Rln8hQxzQBff",
        "outputId": "fb6d9b5f-adc7-48e2-eb53-82452769de4f"
      },
      "source": [
        "##### Data binning to age, renta and antiguedad\n",
        "\n",
        "fig, ax = plt.subplots(1,3, figsize = [25, 5])\n",
        "fig.suptitle('Data binning', fontsize = 18)\n",
        "\n",
        "# Age\n",
        "ax[0].hist(df_pred.age)\n",
        "ax[0].set_title('Age distribution', fontsize = 12)\n",
        "\n",
        "bins = np.linspace(df_pred.age.min(), df_pred.age.max(), 5)\n",
        "# Young = 0 | Adult = 1 | Senior = 2 | Elderly = 3\n",
        "df_pred['age_binning'] = pd.cut(df_pred['age'], bins, labels = [0,1,2,3], include_lowest=True)\n",
        "del df_pred['age']\n",
        "\n",
        "# Renta\n",
        "ax[1].hist(df_pred.renta)\n",
        "ax[1].set_title('Income distribution', fontsize = 12)\n",
        "\n",
        "bins = np.linspace(df_pred.renta.min(), df_pred.renta.max(), 5)\n",
        "# Low = 0 | Middle = 1 | Middle-High = 2 | High = 3\n",
        "df_pred['renta_binning'] = pd.cut(df_pred['renta'], bins, labels = [0,1,2,3], include_lowest=True)\n",
        "del df_pred['renta']\n",
        "\n",
        "# Antiguedad\n",
        "ax[2].hist(df_pred.antiguedad)\n",
        "ax[2].set_title('Seniority distribution', fontsize = 12)\n",
        "\n",
        "bins = np.linspace(df_pred.antiguedad.min(), df_pred.antiguedad.max(), 5)\n",
        "# Baja = 0 | Media = 1 | Media Alta = 2 | Alta = 3\n",
        "df_pred['antiguedad_binning'] = pd.cut(df_pred['antiguedad'], bins, labels = [0,1,2,3], include_lowest=True)\n",
        "del df_pred['antiguedad']"
      ],
      "execution_count": 8,
      "outputs": [
        {
          "output_type": "display_data",
          "data": {
            "image/png": "[encoded data removed]",
            "text/plain": [
              "<Figure size 1800x360 with 3 Axes>"
            ]
          },
          "metadata": {
            "tags": [],
            "needs_background": "light"
          }
        }
      ]
    },
    {
      "cell_type": "code",
      "metadata": {
        "id": "xkK5agvKQFrD"
      },
      "source": [
        "##### To dummy to sexo, tiprel_1mes and canal_entrada\n",
        "\n",
        "for col in [\"sexo\", \"tiprel_1mes\",\"canal_entrada\"]:\n",
        "    df_pred = df_pred.join(pd.get_dummies(df_pred[col], prefix = col))\n",
        "    \n",
        "for col in [\"sexo\", \"tiprel_1mes\",\"canal_entrada\", \"sexo_V\", \"tiprel_1mes_I\"]:\n",
        "    del df_pred[col]"
      ],
      "execution_count": 9,
      "outputs": []
    },
    {
      "cell_type": "code",
      "metadata": {
        "id": "dBS4UcHjQIw7"
      },
      "source": [
        "##### Label Encoding to nomprov and segmento\n",
        "\n",
        "for col in ['nomprov', 'segmento']:\n",
        "    LabelEncoding = LabelEncoder()\n",
        "    df_pred[col] = LabelEncoding.fit_transform(df_pred[col].values)"
      ],
      "execution_count": 10,
      "outputs": []
    },
    {
      "cell_type": "code",
      "metadata": {
        "colab": {
          "base_uri": "https://localhost:8080/",
          "height": 439
        },
        "id": "L5hyj9S1QK-A",
        "outputId": "146540da-f9d7-49c7-fa32-ab15266b7fa7"
      },
      "source": [
        "##### Now I join both DataFrames\n",
        "\n",
        "df_product = df_product.join(df_pred)\n",
        "df_product"
      ],
      "execution_count": 11,
      "outputs": [
        {
          "output_type": "execute_result",
          "data": {
            "text/html": [
              "<div>\n",
              "<style scoped>\n",
              "    .dataframe tbody tr th:only-of-type {\n",
              "        vertical-align: middle;\n",
              "    }\n",
              "\n",
              "    .dataframe tbody tr th {\n",
              "        vertical-align: top;\n",
              "    }\n",
              "\n",
              "    .dataframe thead th {\n",
              "        text-align: right;\n",
              "    }\n",
              "</style>\n",
              "<table border=\"1\" class=\"dataframe\">\n",
              "  <thead>\n",
              "    <tr style=\"text-align: right;\">\n",
              "      <th></th>\n",
              "      <th>1</th>\n",
              "      <th>2</th>\n",
              "      <th>3</th>\n",
              "      <th>4</th>\n",
              "      <th>5</th>\n",
              "      <th>6</th>\n",
              "      <th>7</th>\n",
              "      <th>8</th>\n",
              "      <th>9</th>\n",
              "      <th>10</th>\n",
              "      <th>11</th>\n",
              "      <th>12</th>\n",
              "      <th>13</th>\n",
              "      <th>14</th>\n",
              "      <th>15</th>\n",
              "      <th>16</th>\n",
              "      <th>month</th>\n",
              "      <th>nomprov</th>\n",
              "      <th>segmento</th>\n",
              "      <th>age_binning</th>\n",
              "      <th>renta_binning</th>\n",
              "      <th>antiguedad_binning</th>\n",
              "      <th>sexo_H</th>\n",
              "      <th>tiprel_1mes_A</th>\n",
              "      <th>canal_entrada_KAT</th>\n",
              "      <th>canal_entrada_KFC</th>\n",
              "      <th>canal_entrada_KHE</th>\n",
              "      <th>canal_entrada_otros</th>\n",
              "    </tr>\n",
              "  </thead>\n",
              "  <tbody>\n",
              "    <tr>\n",
              "      <th>0</th>\n",
              "      <td>1</td>\n",
              "      <td>1</td>\n",
              "      <td>1</td>\n",
              "      <td>1</td>\n",
              "      <td>1</td>\n",
              "      <td>0</td>\n",
              "      <td>1</td>\n",
              "      <td>1</td>\n",
              "      <td>0</td>\n",
              "      <td>0</td>\n",
              "      <td>1</td>\n",
              "      <td>1</td>\n",
              "      <td>1</td>\n",
              "      <td>1</td>\n",
              "      <td>1</td>\n",
              "      <td>1</td>\n",
              "      <td>1</td>\n",
              "      <td>51</td>\n",
              "      <td>2</td>\n",
              "      <td>0</td>\n",
              "      <td>0</td>\n",
              "      <td>3</td>\n",
              "      <td>0</td>\n",
              "      <td>1</td>\n",
              "      <td>0</td>\n",
              "      <td>0</td>\n",
              "      <td>1</td>\n",
              "      <td>0</td>\n",
              "    </tr>\n",
              "    <tr>\n",
              "      <th>1</th>\n",
              "      <td>0</td>\n",
              "      <td>1</td>\n",
              "      <td>1</td>\n",
              "      <td>1</td>\n",
              "      <td>1</td>\n",
              "      <td>1</td>\n",
              "      <td>0</td>\n",
              "      <td>1</td>\n",
              "      <td>1</td>\n",
              "      <td>1</td>\n",
              "      <td>1</td>\n",
              "      <td>1</td>\n",
              "      <td>1</td>\n",
              "      <td>1</td>\n",
              "      <td>1</td>\n",
              "      <td>1</td>\n",
              "      <td>1</td>\n",
              "      <td>51</td>\n",
              "      <td>2</td>\n",
              "      <td>0</td>\n",
              "      <td>0</td>\n",
              "      <td>3</td>\n",
              "      <td>1</td>\n",
              "      <td>1</td>\n",
              "      <td>0</td>\n",
              "      <td>0</td>\n",
              "      <td>1</td>\n",
              "      <td>0</td>\n",
              "    </tr>\n",
              "    <tr>\n",
              "      <th>2</th>\n",
              "      <td>1</td>\n",
              "      <td>1</td>\n",
              "      <td>1</td>\n",
              "      <td>1</td>\n",
              "      <td>0</td>\n",
              "      <td>1</td>\n",
              "      <td>1</td>\n",
              "      <td>0</td>\n",
              "      <td>0</td>\n",
              "      <td>1</td>\n",
              "      <td>1</td>\n",
              "      <td>1</td>\n",
              "      <td>1</td>\n",
              "      <td>1</td>\n",
              "      <td>0</td>\n",
              "      <td>1</td>\n",
              "      <td>1</td>\n",
              "      <td>50</td>\n",
              "      <td>2</td>\n",
              "      <td>0</td>\n",
              "      <td>0</td>\n",
              "      <td>3</td>\n",
              "      <td>1</td>\n",
              "      <td>1</td>\n",
              "      <td>0</td>\n",
              "      <td>0</td>\n",
              "      <td>1</td>\n",
              "      <td>0</td>\n",
              "    </tr>\n",
              "    <tr>\n",
              "      <th>3</th>\n",
              "      <td>0</td>\n",
              "      <td>1</td>\n",
              "      <td>1</td>\n",
              "      <td>1</td>\n",
              "      <td>1</td>\n",
              "      <td>1</td>\n",
              "      <td>1</td>\n",
              "      <td>1</td>\n",
              "      <td>0</td>\n",
              "      <td>1</td>\n",
              "      <td>1</td>\n",
              "      <td>1</td>\n",
              "      <td>1</td>\n",
              "      <td>1</td>\n",
              "      <td>1</td>\n",
              "      <td>1</td>\n",
              "      <td>1</td>\n",
              "      <td>8</td>\n",
              "      <td>2</td>\n",
              "      <td>0</td>\n",
              "      <td>0</td>\n",
              "      <td>3</td>\n",
              "      <td>0</td>\n",
              "      <td>1</td>\n",
              "      <td>0</td>\n",
              "      <td>0</td>\n",
              "      <td>1</td>\n",
              "      <td>0</td>\n",
              "    </tr>\n",
              "    <tr>\n",
              "      <th>4</th>\n",
              "      <td>1</td>\n",
              "      <td>1</td>\n",
              "      <td>1</td>\n",
              "      <td>1</td>\n",
              "      <td>0</td>\n",
              "      <td>1</td>\n",
              "      <td>1</td>\n",
              "      <td>1</td>\n",
              "      <td>1</td>\n",
              "      <td>1</td>\n",
              "      <td>1</td>\n",
              "      <td>1</td>\n",
              "      <td>1</td>\n",
              "      <td>0</td>\n",
              "      <td>1</td>\n",
              "      <td>1</td>\n",
              "      <td>1</td>\n",
              "      <td>40</td>\n",
              "      <td>2</td>\n",
              "      <td>0</td>\n",
              "      <td>0</td>\n",
              "      <td>3</td>\n",
              "      <td>0</td>\n",
              "      <td>0</td>\n",
              "      <td>0</td>\n",
              "      <td>0</td>\n",
              "      <td>1</td>\n",
              "      <td>0</td>\n",
              "    </tr>\n",
              "    <tr>\n",
              "      <th>...</th>\n",
              "      <td>...</td>\n",
              "      <td>...</td>\n",
              "      <td>...</td>\n",
              "      <td>...</td>\n",
              "      <td>...</td>\n",
              "      <td>...</td>\n",
              "      <td>...</td>\n",
              "      <td>...</td>\n",
              "      <td>...</td>\n",
              "      <td>...</td>\n",
              "      <td>...</td>\n",
              "      <td>...</td>\n",
              "      <td>...</td>\n",
              "      <td>...</td>\n",
              "      <td>...</td>\n",
              "      <td>...</td>\n",
              "      <td>...</td>\n",
              "      <td>...</td>\n",
              "      <td>...</td>\n",
              "      <td>...</td>\n",
              "      <td>...</td>\n",
              "      <td>...</td>\n",
              "      <td>...</td>\n",
              "      <td>...</td>\n",
              "      <td>...</td>\n",
              "      <td>...</td>\n",
              "      <td>...</td>\n",
              "      <td>...</td>\n",
              "    </tr>\n",
              "    <tr>\n",
              "      <th>296817</th>\n",
              "      <td>0</td>\n",
              "      <td>1</td>\n",
              "      <td>1</td>\n",
              "      <td>1</td>\n",
              "      <td>1</td>\n",
              "      <td>0</td>\n",
              "      <td>0</td>\n",
              "      <td>1</td>\n",
              "      <td>1</td>\n",
              "      <td>1</td>\n",
              "      <td>1</td>\n",
              "      <td>1</td>\n",
              "      <td>1</td>\n",
              "      <td>1</td>\n",
              "      <td>1</td>\n",
              "      <td>1</td>\n",
              "      <td>1</td>\n",
              "      <td>30</td>\n",
              "      <td>1</td>\n",
              "      <td>2</td>\n",
              "      <td>0</td>\n",
              "      <td>3</td>\n",
              "      <td>1</td>\n",
              "      <td>1</td>\n",
              "      <td>0</td>\n",
              "      <td>0</td>\n",
              "      <td>0</td>\n",
              "      <td>1</td>\n",
              "    </tr>\n",
              "    <tr>\n",
              "      <th>296818</th>\n",
              "      <td>1</td>\n",
              "      <td>1</td>\n",
              "      <td>1</td>\n",
              "      <td>1</td>\n",
              "      <td>0</td>\n",
              "      <td>1</td>\n",
              "      <td>1</td>\n",
              "      <td>1</td>\n",
              "      <td>1</td>\n",
              "      <td>1</td>\n",
              "      <td>1</td>\n",
              "      <td>0</td>\n",
              "      <td>0</td>\n",
              "      <td>1</td>\n",
              "      <td>1</td>\n",
              "      <td>1</td>\n",
              "      <td>1</td>\n",
              "      <td>30</td>\n",
              "      <td>0</td>\n",
              "      <td>1</td>\n",
              "      <td>0</td>\n",
              "      <td>3</td>\n",
              "      <td>1</td>\n",
              "      <td>1</td>\n",
              "      <td>0</td>\n",
              "      <td>0</td>\n",
              "      <td>0</td>\n",
              "      <td>1</td>\n",
              "    </tr>\n",
              "    <tr>\n",
              "      <th>296819</th>\n",
              "      <td>1</td>\n",
              "      <td>1</td>\n",
              "      <td>1</td>\n",
              "      <td>1</td>\n",
              "      <td>1</td>\n",
              "      <td>1</td>\n",
              "      <td>1</td>\n",
              "      <td>1</td>\n",
              "      <td>1</td>\n",
              "      <td>1</td>\n",
              "      <td>1</td>\n",
              "      <td>1</td>\n",
              "      <td>1</td>\n",
              "      <td>1</td>\n",
              "      <td>1</td>\n",
              "      <td>0</td>\n",
              "      <td>1</td>\n",
              "      <td>30</td>\n",
              "      <td>1</td>\n",
              "      <td>1</td>\n",
              "      <td>0</td>\n",
              "      <td>3</td>\n",
              "      <td>1</td>\n",
              "      <td>1</td>\n",
              "      <td>1</td>\n",
              "      <td>0</td>\n",
              "      <td>0</td>\n",
              "      <td>0</td>\n",
              "    </tr>\n",
              "    <tr>\n",
              "      <th>296820</th>\n",
              "      <td>1</td>\n",
              "      <td>1</td>\n",
              "      <td>1</td>\n",
              "      <td>1</td>\n",
              "      <td>0</td>\n",
              "      <td>1</td>\n",
              "      <td>0</td>\n",
              "      <td>1</td>\n",
              "      <td>1</td>\n",
              "      <td>1</td>\n",
              "      <td>0</td>\n",
              "      <td>1</td>\n",
              "      <td>1</td>\n",
              "      <td>1</td>\n",
              "      <td>1</td>\n",
              "      <td>1</td>\n",
              "      <td>1</td>\n",
              "      <td>30</td>\n",
              "      <td>1</td>\n",
              "      <td>2</td>\n",
              "      <td>0</td>\n",
              "      <td>3</td>\n",
              "      <td>1</td>\n",
              "      <td>1</td>\n",
              "      <td>0</td>\n",
              "      <td>0</td>\n",
              "      <td>0</td>\n",
              "      <td>1</td>\n",
              "    </tr>\n",
              "    <tr>\n",
              "      <th>296821</th>\n",
              "      <td>1</td>\n",
              "      <td>1</td>\n",
              "      <td>1</td>\n",
              "      <td>1</td>\n",
              "      <td>1</td>\n",
              "      <td>1</td>\n",
              "      <td>1</td>\n",
              "      <td>0</td>\n",
              "      <td>0</td>\n",
              "      <td>0</td>\n",
              "      <td>0</td>\n",
              "      <td>0</td>\n",
              "      <td>1</td>\n",
              "      <td>1</td>\n",
              "      <td>0</td>\n",
              "      <td>1</td>\n",
              "      <td>1</td>\n",
              "      <td>30</td>\n",
              "      <td>2</td>\n",
              "      <td>0</td>\n",
              "      <td>0</td>\n",
              "      <td>3</td>\n",
              "      <td>1</td>\n",
              "      <td>1</td>\n",
              "      <td>1</td>\n",
              "      <td>0</td>\n",
              "      <td>0</td>\n",
              "      <td>0</td>\n",
              "    </tr>\n",
              "  </tbody>\n",
              "</table>\n",
              "<p>296822 rows × 28 columns</p>\n",
              "</div>"
            ],
            "text/plain": [
              "        1  2  3  ...  canal_entrada_KFC  canal_entrada_KHE  canal_entrada_otros\n",
              "0       1  1  1  ...                  0                  1                    0\n",
              "1       0  1  1  ...                  0                  1                    0\n",
              "2       1  1  1  ...                  0                  1                    0\n",
              "3       0  1  1  ...                  0                  1                    0\n",
              "4       1  1  1  ...                  0                  1                    0\n",
              "...    .. .. ..  ...                ...                ...                  ...\n",
              "296817  0  1  1  ...                  0                  0                    1\n",
              "296818  1  1  1  ...                  0                  0                    1\n",
              "296819  1  1  1  ...                  0                  0                    0\n",
              "296820  1  1  1  ...                  0                  0                    1\n",
              "296821  1  1  1  ...                  0                  0                    0\n",
              "\n",
              "[296822 rows x 28 columns]"
            ]
          },
          "metadata": {
            "tags": []
          },
          "execution_count": 11
        }
      ]
    },
    {
      "cell_type": "code",
      "metadata": {
        "id": "2qXQHYG4QNDZ"
      },
      "source": [
        "##### Creation of X and y\n",
        "\n",
        "X = np.asarray(df_product.values)\n",
        "y = np.asarray(df.query(f'month_counter == 17')[\"ind_cco_fin_ult1\"]) # target is last month"
      ],
      "execution_count": 12,
      "outputs": []
    },
    {
      "cell_type": "code",
      "metadata": {
        "id": "nUaQ30WxQP62"
      },
      "source": [
        "##### Creation of X and y train/test\n",
        "\n",
        "X_train, X_test, y_train, y_test = train_test_split( X, y, test_size=0.3)"
      ],
      "execution_count": 13,
      "outputs": []
    },
    {
      "cell_type": "code",
      "metadata": {
        "colab": {
          "base_uri": "https://localhost:8080/"
        },
        "id": "38w7SRhQQRb6",
        "outputId": "17f053d0-30bb-476e-d718-58dfee17ebd8"
      },
      "source": [
        "##### Undersampling to create sintetic data to improve class balance.\n",
        "# Increase minority class size until its size represent 80% of major class size\n",
        "\n",
        "undersampling = RandomUnderSampler(sampling_strategy=0.8) \n",
        "X_balance, y_balance = undersampling.fit_resample(X, y)\n",
        "Counter(y_balance)"
      ],
      "execution_count": 14,
      "outputs": [
        {
          "output_type": "execute_result",
          "data": {
            "text/plain": [
              "Counter({0: 78567, 1: 98208})"
            ]
          },
          "metadata": {
            "tags": []
          },
          "execution_count": 14
        }
      ]
    },
    {
      "cell_type": "code",
      "metadata": {
        "id": "-p1NDHODQS7k"
      },
      "source": [
        "##### Creation of X and y split -- train and test applying undersampling\n",
        "\n",
        "X_train_balance, X_test_balance, y_train_balance, y_test_balance = train_test_split(X_balance, y_balance, test_size=0.4)"
      ],
      "execution_count": 15,
      "outputs": []
    },
    {
      "cell_type": "markdown",
      "metadata": {
        "id": "mE4BjOHkQWfM"
      },
      "source": [
        "## Logistic Regression"
      ]
    },
    {
      "cell_type": "code",
      "metadata": {
        "colab": {
          "base_uri": "https://localhost:8080/"
        },
        "id": "2M5rBb9TQV1P",
        "outputId": "59e4351a-4d41-47aa-ea1c-9826e0b727e4"
      },
      "source": [
        "##### Logistic Regression \n",
        "\n",
        "clf = LogisticRegression(solver='liblinear')\n",
        "clf.fit(X_train, y_train)\n",
        "yhat = clf.predict(X_test)\n",
        "\n",
        "print('Accuracy score: ',accuracy_score(y_test,yhat))"
      ],
      "execution_count": 16,
      "outputs": [
        {
          "output_type": "stream",
          "text": [
            "Accuracy score:  0.7358698215549092\n"
          ],
          "name": "stdout"
        }
      ]
    },
    {
      "cell_type": "code",
      "metadata": {
        "colab": {
          "base_uri": "https://localhost:8080/"
        },
        "id": "Jatsu4xWQZWo",
        "outputId": "cb8753ac-5c22-4010-a89b-9d5b09ad50bb"
      },
      "source": [
        "##### Classification Report\n",
        "\n",
        "print(classification_report(y_test, yhat, digits=3))"
      ],
      "execution_count": 17,
      "outputs": [
        {
          "output_type": "stream",
          "text": [
            "              precision    recall  f1-score   support\n",
            "\n",
            "           0      0.000     0.000     0.000     23520\n",
            "           1      0.736     1.000     0.848     65527\n",
            "\n",
            "    accuracy                          0.736     89047\n",
            "   macro avg      0.368     0.500     0.424     89047\n",
            "weighted avg      0.542     0.736     0.624     89047\n",
            "\n"
          ],
          "name": "stdout"
        }
      ]
    },
    {
      "cell_type": "code",
      "metadata": {
        "colab": {
          "base_uri": "https://localhost:8080/",
          "height": 310
        },
        "id": "NWiMv2ehQcdm",
        "outputId": "e861c935-b92e-4644-aa89-5c38e7f82135"
      },
      "source": [
        "##### Confussion Matrix\n",
        "\n",
        "plot_confusion_matrix(clf, X_test, y_test,\n",
        "                             display_labels=[0,1],\n",
        "                             cmap=plt.cm.Blues,\n",
        "                             normalize=\"true\")\n",
        "plt.title('Confussion matrix on how the \\n model can predict product purchase next month')\n",
        "plt.show()"
      ],
      "execution_count": 18,
      "outputs": [
        {
          "output_type": "display_data",
          "data": {
            "image/png": "[encoded data removed]",
            "text/plain": [
              "<Figure size 432x288 with 2 Axes>"
            ]
          },
          "metadata": {
            "tags": [],
            "needs_background": "light"
          }
        }
      ]
    },
    {
      "cell_type": "markdown",
      "metadata": {
        "id": "iMRZLirnQiHh"
      },
      "source": [
        "### With Undersampling"
      ]
    },
    {
      "cell_type": "code",
      "metadata": {
        "colab": {
          "base_uri": "https://localhost:8080/"
        },
        "id": "XW-R-DkYQfV9",
        "outputId": "3653c085-b63b-470c-ba06-f26725491463"
      },
      "source": [
        "##### Logistic Regression with Undersampling\n",
        "\n",
        "clf = LogisticRegression(solver='liblinear')\n",
        "clf.fit(X_train_balance, y_train_balance)\n",
        "yhat = clf.predict(X_test_balance)\n",
        "print('Accuracy score: ',accuracy_score(y_test_balance, yhat))"
      ],
      "execution_count": 19,
      "outputs": [
        {
          "output_type": "stream",
          "text": [
            "Accuracy score:  0.5554518455663979\n"
          ],
          "name": "stdout"
        }
      ]
    },
    {
      "cell_type": "code",
      "metadata": {
        "colab": {
          "base_uri": "https://localhost:8080/"
        },
        "id": "mwq7N0GhQm5V",
        "outputId": "48496123-dc80-4bc4-f846-bb38260254d9"
      },
      "source": [
        "##### Classification Report\n",
        "\n",
        "print(classification_report(y_test_balance, yhat, digits=3))"
      ],
      "execution_count": 20,
      "outputs": [
        {
          "output_type": "stream",
          "text": [
            "              precision    recall  f1-score   support\n",
            "\n",
            "           0      0.479     0.024     0.045     31370\n",
            "           1      0.557     0.980     0.710     39340\n",
            "\n",
            "    accuracy                          0.555     70710\n",
            "   macro avg      0.518     0.502     0.378     70710\n",
            "weighted avg      0.523     0.555     0.415     70710\n",
            "\n"
          ],
          "name": "stdout"
        }
      ]
    },
    {
      "cell_type": "code",
      "metadata": {
        "colab": {
          "base_uri": "https://localhost:8080/",
          "height": 310
        },
        "id": "Z1BdAvbNQpq7",
        "outputId": "124fba79-368c-4908-8495-8030fa4e439e"
      },
      "source": [
        "##### Confussion Matrix\n",
        "\n",
        "plot_confusion_matrix(clf, X_test_balance, y_test_balance,\n",
        "                             display_labels=[0,1],\n",
        "                             cmap=plt.cm.Blues,\n",
        "                             normalize=\"true\")\n",
        "plt.title('Confussion matrix on how the \\n model can predict product purchase next month')\n",
        "plt.show()"
      ],
      "execution_count": 21,
      "outputs": [
        {
          "output_type": "display_data",
          "data": {
            "image/png": "[encoded data removed]",
            "text/plain": [
              "<Figure size 432x288 with 2 Axes>"
            ]
          },
          "metadata": {
            "tags": [],
            "needs_background": "light"
          }
        }
      ]
    },
    {
      "cell_type": "markdown",
      "metadata": {
        "id": "IT37m_C7Qt7w"
      },
      "source": [
        "## Random Forest Classifier"
      ]
    },
    {
      "cell_type": "code",
      "metadata": {
        "colab": {
          "base_uri": "https://localhost:8080/"
        },
        "id": "AcPsFeBFQrSz",
        "outputId": "a55709f0-20c8-491b-ff6e-2820b003bec8"
      },
      "source": [
        "##### Random Forest Classifier\n",
        "\n",
        "clf = RandomForestClassifier()\n",
        "clf.fit(X_train, y_train)\n",
        "yhat = clf.predict(X_test)\n",
        "print('Accuracy score: ',accuracy_score(y_test,yhat))"
      ],
      "execution_count": 22,
      "outputs": [
        {
          "output_type": "stream",
          "text": [
            "Accuracy score:  0.6984738396577088\n"
          ],
          "name": "stdout"
        }
      ]
    },
    {
      "cell_type": "code",
      "metadata": {
        "colab": {
          "base_uri": "https://localhost:8080/"
        },
        "id": "304kcsZKQwo1",
        "outputId": "8f0be848-12b3-426d-c17b-9aff9f5c5acc"
      },
      "source": [
        "##### Classification Report\n",
        "\n",
        "print(classification_report(y_test, yhat, digits=3))"
      ],
      "execution_count": 23,
      "outputs": [
        {
          "output_type": "stream",
          "text": [
            "              precision    recall  f1-score   support\n",
            "\n",
            "           0      0.265     0.080     0.123     23520\n",
            "           1      0.736     0.920     0.818     65527\n",
            "\n",
            "    accuracy                          0.698     89047\n",
            "   macro avg      0.501     0.500     0.471     89047\n",
            "weighted avg      0.612     0.698     0.634     89047\n",
            "\n"
          ],
          "name": "stdout"
        }
      ]
    },
    {
      "cell_type": "code",
      "metadata": {
        "colab": {
          "base_uri": "https://localhost:8080/",
          "height": 310
        },
        "id": "c8E5LON7QyGp",
        "outputId": "f58f0754-8d80-45d9-9783-00b408e3240b"
      },
      "source": [
        "##### Confussion Matrix\n",
        "\n",
        "plot_confusion_matrix(clf, X_test, y_test,\n",
        "                             display_labels=[0,1],\n",
        "                             cmap=plt.cm.Blues,\n",
        "                             normalize=\"true\")\n",
        "plt.title('Confussion matrix on how the \\n model can predict product purchase next month')\n",
        "plt.show()"
      ],
      "execution_count": 24,
      "outputs": [
        {
          "output_type": "display_data",
          "data": {
            "image/png": "[encoded data removed]",
            "text/plain": [
              "<Figure size 432x288 with 2 Axes>"
            ]
          },
          "metadata": {
            "tags": [],
            "needs_background": "light"
          }
        }
      ]
    },
    {
      "cell_type": "code",
      "metadata": {
        "colab": {
          "base_uri": "https://localhost:8080/",
          "height": 373
        },
        "id": "zXs71qM2Q0X7",
        "outputId": "21f3680b-94e6-4035-fbb9-b2ce2d8dbfdd"
      },
      "source": [
        "##### Feature Importance\n",
        "\n",
        "features_importance = clf.feature_importances_\n",
        "features_array = np.array(df_product.columns)\n",
        "features_array_ordered = features_array[(features_importance).argsort()[::-1]]\n",
        "features_array_ordered\n",
        "\n",
        "plt.figure(figsize=(16,10))\n",
        "sns.barplot(y = features_array, x = features_importance, orient='h', order=features_array_ordered[:50])\n",
        "\n",
        "plt.show()"
      ],
      "execution_count": 25,
      "outputs": [
        {
          "output_type": "display_data",
          "data": {
            "image/png": "[encoded data removed]",
            "text/plain": [
              "<Figure size 1152x720 with 1 Axes>"
            ]
          },
          "metadata": {
            "tags": [],
            "needs_background": "light"
          }
        }
      ]
    },
    {
      "cell_type": "markdown",
      "metadata": {
        "id": "cf1b_foXQ-QZ"
      },
      "source": [
        "### With Undersampling"
      ]
    },
    {
      "cell_type": "code",
      "metadata": {
        "colab": {
          "base_uri": "https://localhost:8080/"
        },
        "id": "fAVRh_ZBQ2r3",
        "outputId": "0da71925-e597-4f8c-b534-9d8d06ed2a2b"
      },
      "source": [
        "##### Random Forest Classifier with Undersampling\n",
        "\n",
        "clf = RandomForestClassifier()\n",
        "clf.fit(X_train_balance, y_train_balance)\n",
        "yhat = clf.predict(X_test_balance)\n",
        "print('Accuracy score: ',accuracy_score(y_test_balance,yhat))"
      ],
      "execution_count": 26,
      "outputs": [
        {
          "output_type": "stream",
          "text": [
            "Accuracy score:  0.5166595955310422\n"
          ],
          "name": "stdout"
        }
      ]
    },
    {
      "cell_type": "code",
      "metadata": {
        "colab": {
          "base_uri": "https://localhost:8080/"
        },
        "id": "zwPrIFLwRAgO",
        "outputId": "78edba11-0f06-41d0-a3ea-5dea70dafc7b"
      },
      "source": [
        "##### Classification Report\n",
        "\n",
        "print(classification_report(y_test_balance, yhat, digits=3))"
      ],
      "execution_count": 27,
      "outputs": [
        {
          "output_type": "stream",
          "text": [
            "              precision    recall  f1-score   support\n",
            "\n",
            "           0      0.446     0.368     0.403     31370\n",
            "           1      0.558     0.635     0.594     39340\n",
            "\n",
            "    accuracy                          0.517     70710\n",
            "   macro avg      0.502     0.502     0.499     70710\n",
            "weighted avg      0.508     0.517     0.509     70710\n",
            "\n"
          ],
          "name": "stdout"
        }
      ]
    },
    {
      "cell_type": "code",
      "metadata": {
        "colab": {
          "base_uri": "https://localhost:8080/",
          "height": 310
        },
        "id": "mT2y-VzyRB9Y",
        "outputId": "f4a23cf8-fe92-4d7b-d219-4767fb57a9e5"
      },
      "source": [
        "##### Confussion Matrix\n",
        "\n",
        "plot_confusion_matrix(clf, X_test_balance, y_test_balance,\n",
        "                             display_labels=[0,1],\n",
        "                             cmap=plt.cm.Blues,\n",
        "                             normalize=\"true\")\n",
        "plt.title('Confussion matrix on how the \\n model can predict product purchase next month')\n",
        "plt.show()"
      ],
      "execution_count": 28,
      "outputs": [
        {
          "output_type": "display_data",
          "data": {
            "image/png": "[encoded data removed]",
            "text/plain": [
              "<Figure size 432x288 with 2 Axes>"
            ]
          },
          "metadata": {
            "tags": [],
            "needs_background": "light"
          }
        }
      ]
    },
    {
      "cell_type": "code",
      "metadata": {
        "colab": {
          "base_uri": "https://localhost:8080/",
          "height": 592
        },
        "id": "bhwszbjsRDZJ",
        "outputId": "786dfb2f-5ed4-4a51-cefb-b808bc1dc242"
      },
      "source": [
        "##### Feature Importance\n",
        "\n",
        "features_importance = clf.feature_importances_\n",
        "features_array = np.array(df_product.columns)\n",
        "features_array_ordered = features_array[(features_importance).argsort()[::-1]]\n",
        "features_array_ordered\n",
        "\n",
        "plt.figure(figsize=(16,10))\n",
        "sns.barplot(y = features_array, x = features_importance, orient='h', order=features_array_ordered[:50])\n",
        "\n",
        "plt.show()"
      ],
      "execution_count": 29,
      "outputs": [
        {
          "output_type": "display_data",
          "data": {
            "image/png": "[encoded data removed]",
            "text/plain": [
              "<Figure size 1152x720 with 1 Axes>"
            ]
          },
          "metadata": {
            "tags": [],
            "needs_background": "light"
          }
        }
      ]
    },
    {
      "cell_type": "markdown",
      "metadata": {
        "id": "Nphz2hIiRI5F"
      },
      "source": [
        "## XGB Classifier"
      ]
    },
    {
      "cell_type": "code",
      "metadata": {
        "colab": {
          "base_uri": "https://localhost:8080/"
        },
        "id": "k-KFOCxaRG5i",
        "outputId": "19c00a8e-caa5-450b-da86-05a6028b5077"
      },
      "source": [
        "##### XGB Classifier\n",
        "\n",
        "clf = XGBClassifier() \n",
        "clf.fit(X_train, y_train)\n",
        "yhat = clf.predict(X_test)\n",
        "print('Accuracy score: ',accuracy_score(y_test, yhat))"
      ],
      "execution_count": 30,
      "outputs": [
        {
          "output_type": "stream",
          "text": [
            "Accuracy score:  0.7358698215549092\n"
          ],
          "name": "stdout"
        }
      ]
    },
    {
      "cell_type": "code",
      "metadata": {
        "colab": {
          "base_uri": "https://localhost:8080/"
        },
        "id": "OM_ggz5HRMIG",
        "outputId": "89c8659f-ff43-4a06-8fc5-f7b935668c95"
      },
      "source": [
        "##### Classification Report\n",
        "\n",
        "print(classification_report(y_test, yhat, digits=3))"
      ],
      "execution_count": 31,
      "outputs": [
        {
          "output_type": "stream",
          "text": [
            "              precision    recall  f1-score   support\n",
            "\n",
            "           0      0.000     0.000     0.000     23520\n",
            "           1      0.736     1.000     0.848     65527\n",
            "\n",
            "    accuracy                          0.736     89047\n",
            "   macro avg      0.368     0.500     0.424     89047\n",
            "weighted avg      0.542     0.736     0.624     89047\n",
            "\n"
          ],
          "name": "stdout"
        }
      ]
    },
    {
      "cell_type": "code",
      "metadata": {
        "colab": {
          "base_uri": "https://localhost:8080/",
          "height": 310
        },
        "id": "IfiV6STbRNok",
        "outputId": "e64344f8-1749-4575-cfc4-124e070a230a"
      },
      "source": [
        "##### Confussion Matrix\n",
        "\n",
        "plot_confusion_matrix(clf, X_test, y_test,\n",
        "                             display_labels=[0,1],\n",
        "                             cmap=plt.cm.Blues,\n",
        "                             normalize=\"true\")\n",
        "plt.title('Confussion matrix on how the \\n model can predict product purchase next month')\n",
        "plt.show()"
      ],
      "execution_count": 32,
      "outputs": [
        {
          "output_type": "display_data",
          "data": {
            "image/png": "[encoded data removed]",
            "text/plain": [
              "<Figure size 432x288 with 2 Axes>"
            ]
          },
          "metadata": {
            "tags": [],
            "needs_background": "light"
          }
        }
      ]
    },
    {
      "cell_type": "code",
      "metadata": {
        "colab": {
          "base_uri": "https://localhost:8080/",
          "height": 592
        },
        "id": "VD5Wcs07RPRX",
        "outputId": "99799ec7-9002-4512-d297-73adc3da39cf"
      },
      "source": [
        "##### Feature Importance\n",
        "\n",
        "features_importance = clf.feature_importances_\n",
        "features_array = np.array(df_product.columns)\n",
        "features_array_ordered = features_array[(features_importance).argsort()[::-1]]\n",
        "features_array_ordered\n",
        "\n",
        "plt.figure(figsize=(16,10))\n",
        "sns.barplot(y = features_array, x = features_importance, orient='h', order=features_array_ordered[:50])\n",
        "\n",
        "plt.show()"
      ],
      "execution_count": 33,
      "outputs": [
        {
          "output_type": "display_data",
          "data": {
            "image/png": "[encoded data removed]",
            "text/plain": [
              "<Figure size 1152x720 with 1 Axes>"
            ]
          },
          "metadata": {
            "tags": [],
            "needs_background": "light"
          }
        }
      ]
    },
    {
      "cell_type": "markdown",
      "metadata": {
        "id": "jXQu93w_RWKi"
      },
      "source": [
        "### With Undersampling"
      ]
    },
    {
      "cell_type": "code",
      "metadata": {
        "colab": {
          "base_uri": "https://localhost:8080/"
        },
        "id": "S6iBcz70RSvZ",
        "outputId": "cbc59927-c8d0-4666-a7a3-3351131c07de"
      },
      "source": [
        "##### XGB Classifier\n",
        "\n",
        "clf = XGBClassifier() \n",
        "clf.fit(X_train_balance, y_train_balance)\n",
        "yhat = clf.predict(X_test_balance)\n",
        "print('Accuracy score: ',accuracy_score(y_test_balance, yhat))"
      ],
      "execution_count": 34,
      "outputs": [
        {
          "output_type": "stream",
          "text": [
            "Accuracy score:  0.5557488332626219\n"
          ],
          "name": "stdout"
        }
      ]
    },
    {
      "cell_type": "code",
      "metadata": {
        "colab": {
          "base_uri": "https://localhost:8080/"
        },
        "id": "ByxtXG0PRYzR",
        "outputId": "49a402f7-b99a-44bc-e607-581cbda00a6c"
      },
      "source": [
        "##### Classification Report\n",
        "\n",
        "print(classification_report(y_test_balance, yhat, digits=3))"
      ],
      "execution_count": 35,
      "outputs": [
        {
          "output_type": "stream",
          "text": [
            "              precision    recall  f1-score   support\n",
            "\n",
            "           0      0.489     0.030     0.057     31370\n",
            "           1      0.558     0.975     0.709     39340\n",
            "\n",
            "    accuracy                          0.556     70710\n",
            "   macro avg      0.523     0.503     0.383     70710\n",
            "weighted avg      0.527     0.556     0.420     70710\n",
            "\n"
          ],
          "name": "stdout"
        }
      ]
    },
    {
      "cell_type": "code",
      "metadata": {
        "colab": {
          "base_uri": "https://localhost:8080/",
          "height": 310
        },
        "id": "agoclIA-RaUI",
        "outputId": "957a74b8-0768-4480-f7a1-67dc2bb86f03"
      },
      "source": [
        "##### Confussion Matrix\n",
        "\n",
        "plot_confusion_matrix(clf, X_test_balance, y_test_balance,\n",
        "                             display_labels=[0,1],\n",
        "                             cmap=plt.cm.Blues,\n",
        "                             normalize=\"true\")\n",
        "plt.title('Confussion matrix on how the \\n model can predict product purchase next month')\n",
        "plt.show()"
      ],
      "execution_count": 36,
      "outputs": [
        {
          "output_type": "display_data",
          "data": {
            "image/png": "[encoded data removed]",
            "text/plain": [
              "<Figure size 432x288 with 2 Axes>"
            ]
          },
          "metadata": {
            "tags": [],
            "needs_background": "light"
          }
        }
      ]
    },
    {
      "cell_type": "code",
      "metadata": {
        "colab": {
          "base_uri": "https://localhost:8080/",
          "height": 592
        },
        "id": "Q6_uWQrjRcWw",
        "outputId": "381631be-d0cd-4f64-efdd-a6631e4cea54"
      },
      "source": [
        "##### Feature Importance\n",
        "\n",
        "features_importance = clf.feature_importances_\n",
        "features_array = np.array(df_product.columns)\n",
        "features_array_ordered = features_array[(features_importance).argsort()[::-1]]\n",
        "features_array_ordered\n",
        "\n",
        "plt.figure(figsize=(16,10))\n",
        "sns.barplot(y = features_array, x = features_importance, orient='h', order=features_array_ordered[:50])\n",
        "\n",
        "plt.show()"
      ],
      "execution_count": 37,
      "outputs": [
        {
          "output_type": "display_data",
          "data": {
            "image/png": "[encoded data removed]",
            "text/plain": [
              "<Figure size 1152x720 with 1 Axes>"
            ]
          },
          "metadata": {
            "tags": [],
            "needs_background": "light"
          }
        }
      ]
    },
    {
      "cell_type": "code",
      "metadata": {
        "id": "92cSJw6mRetY"
      },
      "source": [
        ""
      ],
      "execution_count": null,
      "outputs": []
    }
  ]
}